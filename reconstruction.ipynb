{
  "nbformat": 4,
  "nbformat_minor": 0,
  "metadata": {
    "colab": {
      "name": "reconstruction.ipynb",
      "provenance": [],
      "collapsed_sections": []
    },
    "kernelspec": {
      "name": "python3",
      "display_name": "Python 3"
    },
    "accelerator": "GPU"
  },
  "cells": [
    {
      "cell_type": "code",
      "metadata": {
        "id": "wc51zuDjrkyB"
      },
      "source": [
        "!unzip /content/test1.zip"
      ],
      "execution_count": null,
      "outputs": []
    },
    {
      "cell_type": "code",
      "metadata": {
        "id": "54hzlP05qzRX",
        "colab": {
          "base_uri": "https://localhost:8080/",
          "height": 34
        },
        "outputId": "0bba2b32-744a-49c6-b715-d1ef718a8ba6"
      },
      "source": [
        "import os\n",
        "import glob\n",
        "import numpy as np \n",
        "import pandas as pd \n",
        "import matplotlib.pyplot as plt\n",
        "import cv2\n",
        "from keras.models import load_model\n",
        "from keras.preprocessing import image\n",
        "from keras.models import Model\n",
        "from keras import losses\n",
        "from keras.optimizers import Adam\n",
        "from keras.callbacks import EarlyStopping\n",
        "from keras.layers import Input, Dense, Activation, BatchNormalization, Flatten, Conv2D\n",
        "from keras.layers import MaxPooling2D, Dropout, UpSampling2D"
      ],
      "execution_count": null,
      "outputs": [
        {
          "output_type": "stream",
          "text": [
            "Using TensorFlow backend.\n"
          ],
          "name": "stderr"
        }
      ]
    },
    {
      "cell_type": "code",
      "metadata": {
        "id": "PFNdaU31Ih8q"
      },
      "source": [
        "import random\n",
        "import sys\n",
        "import dlib\n",
        "import cv2\n",
        "import os"
      ],
      "execution_count": null,
      "outputs": []
    },
    {
      "cell_type": "code",
      "metadata": {
        "id": "6_lacQ10q9pe"
      },
      "source": [
        "%matplotlib inline"
      ],
      "execution_count": null,
      "outputs": []
    },
    {
      "cell_type": "code",
      "metadata": {
        "id": "PXvLfgfH9inu"
      },
      "source": [
        "from google.colab import drive\n",
        "drive.mount('/content/drive')"
      ],
      "execution_count": null,
      "outputs": []
    },
    {
      "cell_type": "code",
      "metadata": {
        "id": "-KGcVP_orAFX"
      },
      "source": [
        "TRAIN_IMAGES = glob.glob('/content/drive/My Drive/colab_data/cat_data/train_cat/*.jpg')\n",
        "CLEAN_IMAGES = glob.glob('/content/drive/My Drive/colab_data/cat_data/train_cat/*.jpg')\n",
        "TEST_IMAGES = glob.glob('/content/drive/My Drive/colab_data/test_images/*.jpeg')"
      ],
      "execution_count": null,
      "outputs": []
    },
    {
      "cell_type": "code",
      "metadata": {
        "id": "3En8XpNcIkPR"
      },
      "source": [
        "####################landmarks#########################################################################################################"
      ],
      "execution_count": null,
      "outputs": []
    },
    {
      "cell_type": "code",
      "metadata": {
        "id": "uNa5AvqxF_Fq"
      },
      "source": [
        "df=pd.read_csv(\"/content/sample_data/california_housing_train.csv\")"
      ],
      "execution_count": null,
      "outputs": []
    },
    {
      "cell_type": "code",
      "metadata": {
        "id": "pvvOnpWkIIar"
      },
      "source": [
        "train_lmks= {'tr_lmks': []}"
      ],
      "execution_count": null,
      "outputs": []
    },
    {
      "cell_type": "code",
      "metadata": {
        "id": "DZ9hBOJ0UqgT"
      },
      "source": [
        ""
      ],
      "execution_count": null,
      "outputs": []
    },
    {
      "cell_type": "code",
      "metadata": {
        "id": "ONQgsMXgIIk_"
      },
      "source": [
        "os.chdir('/content/drive/My Drive/colab_data') "
      ],
      "execution_count": null,
      "outputs": []
    },
    {
      "cell_type": "code",
      "metadata": {
        "id": "o1y_DgXCIa_B"
      },
      "source": [
        "  base_path = os.getcwd() + \"/\" \n",
        "  file_list = sorted(os.listdir(base_path))\n",
        "  random.shuffle(file_list)\n",
        "  pd_frame = pd.read_csv(os.path.join(base_path, 'training_human_32x32.csv'))"
      ],
      "execution_count": null,
      "outputs": []
    },
    {
      "cell_type": "code",
      "metadata": {
        "id": "txZRwR8hIIxf",
        "colab": {
          "base_uri": "https://localhost:8080/",
          "height": 51
        },
        "outputId": "de3ef0e6-acfe-43dd-ff43-e59d0056d8d5"
      },
      "source": [
        "for i in range(0, 1713):\n",
        "  \n",
        "  landmark = (pd_frame.as_matrix()[i][0:6]).reshape((-1, 2))\n",
        "  train_lmks['tr_lmks'].append(landmark.flatten())"
      ],
      "execution_count": null,
      "outputs": [
        {
          "output_type": "stream",
          "text": [
            "/usr/local/lib/python3.6/dist-packages/ipykernel_launcher.py:3: FutureWarning: Method .as_matrix will be removed in a future version. Use .values instead.\n",
            "  This is separate from the ipykernel package so we can avoid doing imports until\n"
          ],
          "name": "stderr"
        }
      ]
    },
    {
      "cell_type": "code",
      "metadata": {
        "id": "qwQAWDuRJnwu"
      },
      "source": [
        "np.save('/content/drive/My Drive/colab_data/' + 'tr_lmks.npy', np.array(train_lmks))"
      ],
      "execution_count": null,
      "outputs": []
    },
    {
      "cell_type": "code",
      "metadata": {
        "id": "l-tDGsw7II8b",
        "colab": {
          "base_uri": "https://localhost:8080/",
          "height": 34
        },
        "outputId": "3adae6cc-b812-4f7f-9cb9-27640bd95db1"
      },
      "source": [
        "data_00 = np.load('/content/drive/My Drive/colab_data/tr_lmks.npy',allow_pickle=True)\n",
        "hy_train = np.array(data_00.item().get('tr_lmks'))\n",
        "hy_train.shape"
      ],
      "execution_count": null,
      "outputs": [
        {
          "output_type": "execute_result",
          "data": {
            "text/plain": [
              "(1713, 6)"
            ]
          },
          "metadata": {
            "tags": []
          },
          "execution_count": 9
        }
      ]
    },
    {
      "cell_type": "code",
      "metadata": {
        "id": "uhTiUeLPKjcQ"
      },
      "source": [
        "##########################################################################################################################"
      ],
      "execution_count": null,
      "outputs": []
    },
    {
      "cell_type": "code",
      "metadata": {
        "id": "gHZAT9SsrD-v"
      },
      "source": [
        "def load_image(path):\n",
        "    image_list = np.zeros((len(path),32,32, 3))\n",
        "    for i, fig in enumerate(path):\n",
        "        img = image.load_img(fig, color_mode='rgb', target_size=(32,32))\n",
        "        x = image.img_to_array(img).astype('float32')\n",
        "        x = x / 255.0\n",
        "        image_list[i] = x\n",
        "    \n",
        "    return image_list"
      ],
      "execution_count": null,
      "outputs": []
    },
    {
      "cell_type": "code",
      "metadata": {
        "id": "3tbhLeM3rG2W",
        "colab": {
          "base_uri": "https://localhost:8080/",
          "height": 34
        },
        "outputId": "b63b7058-c2e1-481e-e3f3-390b6df59dd3"
      },
      "source": [
        "\n",
        "x_train = load_image(TRAIN_IMAGES)\n",
        "y_train = load_image(CLEAN_IMAGES)\n",
        "x_test = load_image(TEST_IMAGES)\n",
        "\n",
        "print(x_train.shape, x_test.shape)"
      ],
      "execution_count": null,
      "outputs": [
        {
          "output_type": "stream",
          "text": [
            "(770, 32, 32, 3) (1713, 32, 32, 3)\n"
          ],
          "name": "stdout"
        }
      ]
    },
    {
      "cell_type": "code",
      "metadata": {
        "id": "htDzxcH7rH3-",
        "colab": {
          "base_uri": "https://localhost:8080/",
          "height": 34
        },
        "outputId": "47740c36-5b67-4dc5-b671-e6e40de1ca25"
      },
      "source": [
        "def train_val_split(x_train, y_train):\n",
        "    rnd = np.random.RandomState(seed=42)\n",
        "    perm = rnd.permutation(len(x_train))\n",
        "    train_idx = perm[:int(0.8 * len(x_train))]\n",
        "    val_idx = perm[int(0.8 * len(x_train)):]\n",
        "    return x_train[train_idx], y_train[train_idx], x_train[val_idx], y_train[val_idx]\n",
        "\n",
        "x_train, y_train, x_val, y_val = train_val_split(x_train, y_train)\n",
        "print(x_train.shape, x_val.shape)"
      ],
      "execution_count": null,
      "outputs": [
        {
          "output_type": "stream",
          "text": [
            "(616, 32, 32, 3) (154, 32, 32, 3)\n"
          ],
          "name": "stdout"
        }
      ]
    },
    {
      "cell_type": "code",
      "metadata": {
        "id": "FIpJQY2iue0y"
      },
      "source": [
        "data_01 = np.load('/content/drive/My Drive/colab_data/tr_new.npy',allow_pickle=True)"
      ],
      "execution_count": null,
      "outputs": []
    },
    {
      "cell_type": "code",
      "metadata": {
        "id": "bE2c5HCQu-RL"
      },
      "source": [
        "img_size=32\n",
        "output_size=6\n",
        "hx_train = np.array(data_00.item().get('tr_imgs'))\n",
        "hy_train = np.array(data_00.item().get('tr_lmks'))\n",
        "hx_train = x_train.astype('float32') / 255.\n",
        "hx_train = np.reshape(x_train, (-1, img_size, img_size, 1))\n",
        "hy_train = np.reshape(y_train, (-1, output_size))"
      ],
      "execution_count": null,
      "outputs": []
    },
    {
      "cell_type": "code",
      "metadata": {
        "id": "DxJqkM7MrOBG"
      },
      "source": [
        "class Autoencoder():\n",
        "    def __init__(self):\n",
        "        self.img_rows = 32\n",
        "        self.img_cols = 32\n",
        "        self.channels = 3\n",
        "        self.img_shape = (self.img_rows, self.img_cols, self.channels)\n",
        "        \n",
        "        optimizer = Adam(lr=0.0003)\n",
        "        \n",
        "        self.autoencoder_model, self.subModel = self.build_model() \n",
        "        self.reg=self.reg_model()\n",
        "        self.autoencoder_model.compile(loss='mse', optimizer=optimizer)\n",
        "        self.autoencoder_model.summary()\n",
        "    \n",
        "    def build_model(self):\n",
        "        input_layer = Input(shape=self.img_shape)\n",
        "        \n",
        "        # encoder\n",
        "        h = Conv2D(300, (3, 3), activation='relu', padding='same')(input_layer)\n",
        "        h = MaxPooling2D((2, 2), padding='same')(h)\n",
        "        h = Conv2D(250,(3,3),activation='relu',padding='same')(h)\n",
        "        h=MaxPooling2D((2,2),padding='same')(h)\n",
        "        h=Conv2D(200,(3,3),activation='relu',padding='same')(h)\n",
        "        h=Conv2D(150,(3,3),activation='relu',padding='same')(h)\n",
        "        h=Conv2D(100,(3,3),activation='relu',padding='same')(h)\n",
        "        h=Dense(500, activation='relu', name='submodel')(h)\n",
        "        encoder = Model(input_layer,h)\n",
        "        # decoder\n",
        "        h=Dense(500)(h)\n",
        "        h = Conv2D(100, (3, 3), activation='relu', padding='same')(h)\n",
        "        h=Conv2D(150,(3,3),activation='relu',padding='same')(h)\n",
        "        h=Conv2D(200,(3,3),activation='relu',padding='same')(h)\n",
        "        h =Conv2D(250,(3,3),activation='relu',padding='same')(h)\n",
        "        h = UpSampling2D((2, 2))(h)\n",
        "        h = Conv2D(300, (3, 3), activation='relu', padding='same')(h)\n",
        "        h = UpSampling2D((2, 2))(h)\n",
        "        output_layer = Conv2D(3, (3, 3), activation='tanh', padding='same')(h)\n",
        "        \n",
        "        model = Model(input_layer, output_layer)\n",
        "        \n",
        "        subModel = Model(model.input, model.get_layer('submodel').output)\n",
        "        \n",
        "        return model, subModel\n",
        "    \n",
        "    def reg_model(self):\n",
        "      input_layer= Input(shape=(8,8,500))\n",
        "      h= Flatten()(input_layer)\n",
        "      regression_layer= Dense(6, activation='linear')(h)\n",
        "      reg= Model(input_layer, regression_layer)\n",
        "      reg.summary()\n",
        "      return reg\n",
        "    \n",
        "    def human_train(self, hx_train, hy_train, epochs, batch_size=128):\n",
        "      optimizer = Adam(lr=0.0003)\n",
        "      self.reg.compile(optimizer, loss=losses.mean_squared_error,metrics=[\"accuracy\"])\n",
        "      self.reg.fit(hx_train, hy_train, epochs=20, batch_size=batch_size, shuffle=True, verbose=1)\n",
        "      self.reg.save('reg_model.h5')\n",
        "      \n",
        "      \n",
        "      \n",
        "      \n",
        "    \n",
        "    def train_model(self, x_train, y_train, x_val, y_val, epochs, batch_size=128):\n",
        "        optimizer = Adam(lr=0.0003)\n",
        "        self.autoencoder_model.compile(optimizer,loss=losses.mean_squared_error,metrics=[\"accuracy\"])\n",
        "        self.autoencoder_model.fit(x_train, y_train,\n",
        "                                             batch_size=batch_size,\n",
        "                                             epochs=100,\n",
        "                                             verbose=1,\n",
        "                                             validation_data=(x_val, y_val))\n",
        "  \n",
        "        self.autoencoder_model.save('ae2.h5')\n",
        "        self.subModel.save('sub2.h5')\n",
        "      \n",
        "    def eval_reg(self, x1_test):\n",
        "        pred_reg=self.reg.predict(x1_test)\n",
        "        return pred_reg\n",
        "\n",
        "       \n",
        "    def eval_model(self, x_test):\n",
        "        preds = self.autoencoder_model.predict(x_test)\n",
        "        predictions = self.subModel.predict(x_test)\n",
        "        return preds, predictions"
      ],
      "execution_count": null,
      "outputs": []
    },
    {
      "cell_type": "code",
      "metadata": {
        "id": "2AWVY8iXrU1O",
        "colab": {
          "base_uri": "https://localhost:8080/",
          "height": 4709
        },
        "outputId": "681985af-35cf-4dcf-c56a-dfcf04609434"
      },
      "source": [
        "ae = Autoencoder()\n",
        "ae.train_model(x_train, y_train, x_val, y_val, epochs=100, batch_size=128)\n",
        "\n",
        "ae.human_train(predictions, hy_train, epochs=100, batch_size=128)"
      ],
      "execution_count": null,
      "outputs": [
        {
          "output_type": "stream",
          "text": [
            "_________________________________________________________________\n",
            "Layer (type)                 Output Shape              Param #   \n",
            "=================================================================\n",
            "input_10 (InputLayer)        (None, 8, 8, 500)         0         \n",
            "_________________________________________________________________\n",
            "flatten_5 (Flatten)          (None, 32000)             0         \n",
            "_________________________________________________________________\n",
            "dense_10 (Dense)             (None, 6)                 192006    \n",
            "=================================================================\n",
            "Total params: 192,006\n",
            "Trainable params: 192,006\n",
            "Non-trainable params: 0\n",
            "_________________________________________________________________\n",
            "_________________________________________________________________\n",
            "Layer (type)                 Output Shape              Param #   \n",
            "=================================================================\n",
            "input_9 (InputLayer)         (None, 32, 32, 3)         0         \n",
            "_________________________________________________________________\n",
            "conv2d_45 (Conv2D)           (None, 32, 32, 300)       8400      \n",
            "_________________________________________________________________\n",
            "max_pooling2d_9 (MaxPooling2 (None, 16, 16, 300)       0         \n",
            "_________________________________________________________________\n",
            "conv2d_46 (Conv2D)           (None, 16, 16, 250)       675250    \n",
            "_________________________________________________________________\n",
            "max_pooling2d_10 (MaxPooling (None, 8, 8, 250)         0         \n",
            "_________________________________________________________________\n",
            "conv2d_47 (Conv2D)           (None, 8, 8, 200)         450200    \n",
            "_________________________________________________________________\n",
            "conv2d_48 (Conv2D)           (None, 8, 8, 150)         270150    \n",
            "_________________________________________________________________\n",
            "conv2d_49 (Conv2D)           (None, 8, 8, 100)         135100    \n",
            "_________________________________________________________________\n",
            "submodel (Dense)             (None, 8, 8, 500)         50500     \n",
            "_________________________________________________________________\n",
            "dense_9 (Dense)              (None, 8, 8, 500)         250500    \n",
            "_________________________________________________________________\n",
            "conv2d_50 (Conv2D)           (None, 8, 8, 100)         450100    \n",
            "_________________________________________________________________\n",
            "conv2d_51 (Conv2D)           (None, 8, 8, 150)         135150    \n",
            "_________________________________________________________________\n",
            "conv2d_52 (Conv2D)           (None, 8, 8, 200)         270200    \n",
            "_________________________________________________________________\n",
            "conv2d_53 (Conv2D)           (None, 8, 8, 250)         450250    \n",
            "_________________________________________________________________\n",
            "up_sampling2d_9 (UpSampling2 (None, 16, 16, 250)       0         \n",
            "_________________________________________________________________\n",
            "conv2d_54 (Conv2D)           (None, 16, 16, 300)       675300    \n",
            "_________________________________________________________________\n",
            "up_sampling2d_10 (UpSampling (None, 32, 32, 300)       0         \n",
            "_________________________________________________________________\n",
            "conv2d_55 (Conv2D)           (None, 32, 32, 3)         8103      \n",
            "=================================================================\n",
            "Total params: 3,829,203\n",
            "Trainable params: 3,829,203\n",
            "Non-trainable params: 0\n",
            "_________________________________________________________________\n",
            "Train on 616 samples, validate on 154 samples\n",
            "Epoch 1/100\n",
            "616/616 [==============================] - 3s 4ms/step - loss: 0.1962 - acc: 0.1852 - val_loss: 0.0677 - val_acc: 0.7682\n",
            "Epoch 2/100\n",
            "616/616 [==============================] - 1s 2ms/step - loss: 0.0738 - acc: 0.7733 - val_loss: 0.0831 - val_acc: 0.8020\n",
            "Epoch 3/100\n",
            "616/616 [==============================] - 1s 2ms/step - loss: 0.0612 - acc: 0.7816 - val_loss: 0.0456 - val_acc: 0.7796\n",
            "Epoch 4/100\n",
            "616/616 [==============================] - 1s 2ms/step - loss: 0.0453 - acc: 0.7542 - val_loss: 0.0454 - val_acc: 0.8060\n",
            "Epoch 5/100\n",
            "616/616 [==============================] - 1s 2ms/step - loss: 0.0414 - acc: 0.7868 - val_loss: 0.0401 - val_acc: 0.8086\n",
            "Epoch 6/100\n",
            "616/616 [==============================] - 1s 2ms/step - loss: 0.0372 - acc: 0.7881 - val_loss: 0.0367 - val_acc: 0.8088\n",
            "Epoch 7/100\n",
            "616/616 [==============================] - 1s 2ms/step - loss: 0.0343 - acc: 0.7885 - val_loss: 0.0341 - val_acc: 0.8095\n",
            "Epoch 8/100\n",
            "616/616 [==============================] - 1s 2ms/step - loss: 0.0321 - acc: 0.7895 - val_loss: 0.0323 - val_acc: 0.8101\n",
            "Epoch 9/100\n",
            "616/616 [==============================] - 1s 2ms/step - loss: 0.0298 - acc: 0.7897 - val_loss: 0.0301 - val_acc: 0.8087\n",
            "Epoch 10/100\n",
            "616/616 [==============================] - 1s 2ms/step - loss: 0.0274 - acc: 0.7894 - val_loss: 0.0269 - val_acc: 0.8100\n",
            "Epoch 11/100\n",
            "616/616 [==============================] - 1s 2ms/step - loss: 0.0249 - acc: 0.7896 - val_loss: 0.0246 - val_acc: 0.8093\n",
            "Epoch 12/100\n",
            "616/616 [==============================] - 1s 2ms/step - loss: 0.0228 - acc: 0.7893 - val_loss: 0.0231 - val_acc: 0.8093\n",
            "Epoch 13/100\n",
            "616/616 [==============================] - 1s 2ms/step - loss: 0.0222 - acc: 0.7896 - val_loss: 0.0235 - val_acc: 0.8101\n",
            "Epoch 14/100\n",
            "616/616 [==============================] - 1s 2ms/step - loss: 0.0212 - acc: 0.7896 - val_loss: 0.0209 - val_acc: 0.8100\n",
            "Epoch 15/100\n",
            "616/616 [==============================] - 1s 2ms/step - loss: 0.0199 - acc: 0.7896 - val_loss: 0.0196 - val_acc: 0.8101\n",
            "Epoch 16/100\n",
            "616/616 [==============================] - 1s 2ms/step - loss: 0.0190 - acc: 0.7897 - val_loss: 0.0189 - val_acc: 0.8101\n",
            "Epoch 17/100\n",
            "616/616 [==============================] - 1s 2ms/step - loss: 0.0185 - acc: 0.7895 - val_loss: 0.0195 - val_acc: 0.8101\n",
            "Epoch 18/100\n",
            "616/616 [==============================] - 1s 2ms/step - loss: 0.0182 - acc: 0.7896 - val_loss: 0.0183 - val_acc: 0.8100\n",
            "Epoch 19/100\n",
            "616/616 [==============================] - 1s 2ms/step - loss: 0.0175 - acc: 0.7894 - val_loss: 0.0175 - val_acc: 0.8092\n",
            "Epoch 20/100\n",
            "616/616 [==============================] - 1s 2ms/step - loss: 0.0171 - acc: 0.7891 - val_loss: 0.0172 - val_acc: 0.8079\n",
            "Epoch 21/100\n",
            "616/616 [==============================] - 1s 2ms/step - loss: 0.0166 - acc: 0.7874 - val_loss: 0.0176 - val_acc: 0.8051\n",
            "Epoch 22/100\n",
            "616/616 [==============================] - 1s 2ms/step - loss: 0.0165 - acc: 0.7882 - val_loss: 0.0167 - val_acc: 0.8003\n",
            "Epoch 23/100\n",
            "616/616 [==============================] - 1s 2ms/step - loss: 0.0164 - acc: 0.7852 - val_loss: 0.0167 - val_acc: 0.8060\n",
            "Epoch 24/100\n",
            "616/616 [==============================] - 1s 2ms/step - loss: 0.0160 - acc: 0.7876 - val_loss: 0.0170 - val_acc: 0.8016\n",
            "Epoch 25/100\n",
            "616/616 [==============================] - 1s 2ms/step - loss: 0.0160 - acc: 0.7854 - val_loss: 0.0159 - val_acc: 0.8042\n",
            "Epoch 26/100\n",
            "616/616 [==============================] - 1s 2ms/step - loss: 0.0153 - acc: 0.7838 - val_loss: 0.0161 - val_acc: 0.7933\n",
            "Epoch 27/100\n",
            "616/616 [==============================] - 1s 2ms/step - loss: 0.0151 - acc: 0.7825 - val_loss: 0.0152 - val_acc: 0.7994\n",
            "Epoch 28/100\n",
            "616/616 [==============================] - 1s 2ms/step - loss: 0.0147 - acc: 0.7825 - val_loss: 0.0152 - val_acc: 0.7918\n",
            "Epoch 29/100\n",
            "616/616 [==============================] - 1s 2ms/step - loss: 0.0145 - acc: 0.7816 - val_loss: 0.0147 - val_acc: 0.7966\n",
            "Epoch 30/100\n",
            "616/616 [==============================] - 1s 2ms/step - loss: 0.0142 - acc: 0.7783 - val_loss: 0.0152 - val_acc: 0.7983\n",
            "Epoch 31/100\n",
            "616/616 [==============================] - 1s 2ms/step - loss: 0.0141 - acc: 0.7820 - val_loss: 0.0151 - val_acc: 0.7921\n",
            "Epoch 32/100\n",
            "616/616 [==============================] - 1s 2ms/step - loss: 0.0140 - acc: 0.7801 - val_loss: 0.0147 - val_acc: 0.7951\n",
            "Epoch 33/100\n",
            "616/616 [==============================] - 1s 2ms/step - loss: 0.0137 - acc: 0.7786 - val_loss: 0.0149 - val_acc: 0.7873\n",
            "Epoch 34/100\n",
            "616/616 [==============================] - 1s 2ms/step - loss: 0.0136 - acc: 0.7757 - val_loss: 0.0143 - val_acc: 0.7644\n",
            "Epoch 35/100\n",
            "616/616 [==============================] - 1s 2ms/step - loss: 0.0133 - acc: 0.7588 - val_loss: 0.0136 - val_acc: 0.8014\n",
            "Epoch 36/100\n",
            "616/616 [==============================] - 1s 2ms/step - loss: 0.0132 - acc: 0.7620 - val_loss: 0.0130 - val_acc: 0.7698\n",
            "Epoch 37/100\n",
            "616/616 [==============================] - 1s 2ms/step - loss: 0.0125 - acc: 0.7660 - val_loss: 0.0126 - val_acc: 0.8084\n",
            "Epoch 38/100\n",
            "616/616 [==============================] - 1s 2ms/step - loss: 0.0120 - acc: 0.7684 - val_loss: 0.0124 - val_acc: 0.8071\n",
            "Epoch 39/100\n",
            "616/616 [==============================] - 1s 2ms/step - loss: 0.0119 - acc: 0.7802 - val_loss: 0.0174 - val_acc: 0.7012\n",
            "Epoch 40/100\n",
            "616/616 [==============================] - 1s 2ms/step - loss: 0.0196 - acc: 0.7618 - val_loss: 0.0158 - val_acc: 0.6478\n",
            "Epoch 41/100\n",
            "616/616 [==============================] - 1s 2ms/step - loss: 0.0168 - acc: 0.7515 - val_loss: 0.0170 - val_acc: 0.8033\n",
            "Epoch 42/100\n",
            "616/616 [==============================] - 1s 2ms/step - loss: 0.0153 - acc: 0.7495 - val_loss: 0.0136 - val_acc: 0.8074\n",
            "Epoch 43/100\n",
            "616/616 [==============================] - 1s 2ms/step - loss: 0.0140 - acc: 0.7851 - val_loss: 0.0150 - val_acc: 0.7471\n",
            "Epoch 44/100\n",
            "616/616 [==============================] - 1s 2ms/step - loss: 0.0131 - acc: 0.7670 - val_loss: 0.0125 - val_acc: 0.7857\n",
            "Epoch 45/100\n",
            "616/616 [==============================] - 1s 2ms/step - loss: 0.0122 - acc: 0.7690 - val_loss: 0.0126 - val_acc: 0.8017\n",
            "Epoch 46/100\n",
            "616/616 [==============================] - 1s 2ms/step - loss: 0.0117 - acc: 0.7691 - val_loss: 0.0119 - val_acc: 0.8026\n",
            "Epoch 47/100\n",
            "616/616 [==============================] - 1s 2ms/step - loss: 0.0114 - acc: 0.7897 - val_loss: 0.0118 - val_acc: 0.7928\n",
            "Epoch 48/100\n",
            "616/616 [==============================] - 1s 2ms/step - loss: 0.0112 - acc: 0.7818 - val_loss: 0.0117 - val_acc: 0.7919\n",
            "Epoch 49/100\n",
            "616/616 [==============================] - 1s 2ms/step - loss: 0.0110 - acc: 0.7927 - val_loss: 0.0116 - val_acc: 0.7815\n",
            "Epoch 50/100\n",
            "616/616 [==============================] - 1s 2ms/step - loss: 0.0108 - acc: 0.7987 - val_loss: 0.0113 - val_acc: 0.7905\n",
            "Epoch 51/100\n",
            "616/616 [==============================] - 1s 2ms/step - loss: 0.0107 - acc: 0.7987 - val_loss: 0.0111 - val_acc: 0.8047\n",
            "Epoch 52/100\n",
            "616/616 [==============================] - 1s 2ms/step - loss: 0.0105 - acc: 0.8068 - val_loss: 0.0110 - val_acc: 0.7920\n",
            "Epoch 53/100\n",
            "616/616 [==============================] - 1s 2ms/step - loss: 0.0104 - acc: 0.8044 - val_loss: 0.0109 - val_acc: 0.7987\n",
            "Epoch 54/100\n",
            "616/616 [==============================] - 1s 2ms/step - loss: 0.0103 - acc: 0.8062 - val_loss: 0.0108 - val_acc: 0.7895\n",
            "Epoch 55/100\n",
            "616/616 [==============================] - 1s 2ms/step - loss: 0.0102 - acc: 0.8066 - val_loss: 0.0108 - val_acc: 0.7992\n",
            "Epoch 56/100\n",
            "616/616 [==============================] - 1s 2ms/step - loss: 0.0102 - acc: 0.8100 - val_loss: 0.0106 - val_acc: 0.7971\n",
            "Epoch 57/100\n",
            "616/616 [==============================] - 1s 2ms/step - loss: 0.0102 - acc: 0.7993 - val_loss: 0.0108 - val_acc: 0.8159\n",
            "Epoch 58/100\n",
            "616/616 [==============================] - 1s 2ms/step - loss: 0.0102 - acc: 0.7869 - val_loss: 0.0106 - val_acc: 0.8113\n",
            "Epoch 59/100\n",
            "616/616 [==============================] - 1s 2ms/step - loss: 0.0100 - acc: 0.8063 - val_loss: 0.0106 - val_acc: 0.7650\n",
            "Epoch 60/100\n",
            "616/616 [==============================] - 1s 2ms/step - loss: 0.0100 - acc: 0.7943 - val_loss: 0.0108 - val_acc: 0.8141\n",
            "Epoch 61/100\n",
            "616/616 [==============================] - 1s 2ms/step - loss: 0.0103 - acc: 0.8110 - val_loss: 0.0105 - val_acc: 0.7761\n",
            "Epoch 62/100\n",
            "616/616 [==============================] - 1s 2ms/step - loss: 0.0100 - acc: 0.8021 - val_loss: 0.0105 - val_acc: 0.8149\n",
            "Epoch 63/100\n",
            "616/616 [==============================] - 1s 2ms/step - loss: 0.0098 - acc: 0.8122 - val_loss: 0.0104 - val_acc: 0.7672\n",
            "Epoch 64/100\n",
            "616/616 [==============================] - 1s 2ms/step - loss: 0.0097 - acc: 0.8073 - val_loss: 0.0102 - val_acc: 0.8105\n",
            "Epoch 65/100\n",
            "616/616 [==============================] - 1s 2ms/step - loss: 0.0096 - acc: 0.8128 - val_loss: 0.0101 - val_acc: 0.8132\n",
            "Epoch 66/100\n",
            "616/616 [==============================] - 1s 2ms/step - loss: 0.0095 - acc: 0.8116 - val_loss: 0.0102 - val_acc: 0.7842\n",
            "Epoch 67/100\n",
            "616/616 [==============================] - 1s 2ms/step - loss: 0.0099 - acc: 0.8059 - val_loss: 0.0109 - val_acc: 0.7563\n",
            "Epoch 68/100\n",
            "616/616 [==============================] - 1s 2ms/step - loss: 0.0098 - acc: 0.7991 - val_loss: 0.0103 - val_acc: 0.8156\n",
            "Epoch 69/100\n",
            "616/616 [==============================] - 1s 2ms/step - loss: 0.0096 - acc: 0.7926 - val_loss: 0.0101 - val_acc: 0.7675\n",
            "Epoch 70/100\n",
            "616/616 [==============================] - 1s 2ms/step - loss: 0.0094 - acc: 0.8018 - val_loss: 0.0101 - val_acc: 0.8190\n",
            "Epoch 71/100\n",
            "616/616 [==============================] - 1s 2ms/step - loss: 0.0093 - acc: 0.8075 - val_loss: 0.0100 - val_acc: 0.7442\n",
            "Epoch 72/100\n",
            "616/616 [==============================] - 1s 2ms/step - loss: 0.0092 - acc: 0.7972 - val_loss: 0.0098 - val_acc: 0.8130\n",
            "Epoch 73/100\n",
            "616/616 [==============================] - 1s 2ms/step - loss: 0.0098 - acc: 0.8109 - val_loss: 0.0121 - val_acc: 0.7688\n",
            "Epoch 74/100\n",
            "616/616 [==============================] - 1s 2ms/step - loss: 0.0101 - acc: 0.7864 - val_loss: 0.0102 - val_acc: 0.8133\n",
            "Epoch 75/100\n",
            "616/616 [==============================] - 1s 2ms/step - loss: 0.0094 - acc: 0.7978 - val_loss: 0.0098 - val_acc: 0.8153\n",
            "Epoch 76/100\n",
            "616/616 [==============================] - 1s 2ms/step - loss: 0.0092 - acc: 0.8083 - val_loss: 0.0100 - val_acc: 0.7862\n",
            "Epoch 77/100\n",
            "616/616 [==============================] - 1s 2ms/step - loss: 0.0092 - acc: 0.8129 - val_loss: 0.0096 - val_acc: 0.8060\n",
            "Epoch 78/100\n",
            "616/616 [==============================] - 1s 2ms/step - loss: 0.0090 - acc: 0.8159 - val_loss: 0.0094 - val_acc: 0.8091\n",
            "Epoch 79/100\n",
            "616/616 [==============================] - 1s 2ms/step - loss: 0.0088 - acc: 0.8206 - val_loss: 0.0094 - val_acc: 0.7898\n",
            "Epoch 80/100\n",
            "616/616 [==============================] - 1s 2ms/step - loss: 0.0087 - acc: 0.8148 - val_loss: 0.0094 - val_acc: 0.8075\n",
            "Epoch 81/100\n",
            "616/616 [==============================] - 1s 2ms/step - loss: 0.0088 - acc: 0.8143 - val_loss: 0.0092 - val_acc: 0.8222\n",
            "Epoch 82/100\n",
            "616/616 [==============================] - 1s 2ms/step - loss: 0.0086 - acc: 0.8121 - val_loss: 0.0093 - val_acc: 0.7947\n",
            "Epoch 83/100\n",
            "616/616 [==============================] - 1s 2ms/step - loss: 0.0094 - acc: 0.8219 - val_loss: 0.0109 - val_acc: 0.8087\n",
            "Epoch 84/100\n",
            "616/616 [==============================] - 1s 2ms/step - loss: 0.0093 - acc: 0.8000 - val_loss: 0.0094 - val_acc: 0.8166\n",
            "Epoch 85/100\n",
            "616/616 [==============================] - 1s 2ms/step - loss: 0.0091 - acc: 0.7998 - val_loss: 0.0094 - val_acc: 0.8183\n",
            "Epoch 86/100\n",
            "616/616 [==============================] - 1s 2ms/step - loss: 0.0087 - acc: 0.8051 - val_loss: 0.0093 - val_acc: 0.7521\n",
            "Epoch 87/100\n",
            "616/616 [==============================] - 1s 2ms/step - loss: 0.0085 - acc: 0.8033 - val_loss: 0.0092 - val_acc: 0.8176\n",
            "Epoch 88/100\n",
            "616/616 [==============================] - 1s 2ms/step - loss: 0.0084 - acc: 0.8130 - val_loss: 0.0090 - val_acc: 0.8019\n",
            "Epoch 89/100\n",
            "616/616 [==============================] - 1s 2ms/step - loss: 0.0084 - acc: 0.8130 - val_loss: 0.0091 - val_acc: 0.8176\n",
            "Epoch 90/100\n",
            "616/616 [==============================] - 1s 2ms/step - loss: 0.0083 - acc: 0.8221 - val_loss: 0.0091 - val_acc: 0.7984\n",
            "Epoch 91/100\n",
            "616/616 [==============================] - 1s 2ms/step - loss: 0.0084 - acc: 0.8132 - val_loss: 0.0088 - val_acc: 0.8218\n",
            "Epoch 92/100\n",
            "616/616 [==============================] - 1s 2ms/step - loss: 0.0081 - acc: 0.8204 - val_loss: 0.0086 - val_acc: 0.8016\n",
            "Epoch 93/100\n",
            "616/616 [==============================] - 1s 2ms/step - loss: 0.0080 - acc: 0.8201 - val_loss: 0.0086 - val_acc: 0.7928\n",
            "Epoch 94/100\n",
            "616/616 [==============================] - 1s 2ms/step - loss: 0.0080 - acc: 0.8164 - val_loss: 0.0086 - val_acc: 0.8254\n",
            "Epoch 95/100\n",
            "616/616 [==============================] - 1s 2ms/step - loss: 0.0080 - acc: 0.8167 - val_loss: 0.0092 - val_acc: 0.8201\n",
            "Epoch 96/100\n",
            "616/616 [==============================] - 1s 2ms/step - loss: 0.0109 - acc: 0.8250 - val_loss: 0.0090 - val_acc: 0.7539\n",
            "Epoch 97/100\n",
            "616/616 [==============================] - 1s 2ms/step - loss: 0.0094 - acc: 0.7920 - val_loss: 0.0099 - val_acc: 0.8157\n",
            "Epoch 98/100\n",
            "616/616 [==============================] - 1s 2ms/step - loss: 0.0087 - acc: 0.8096 - val_loss: 0.0090 - val_acc: 0.8251\n",
            "Epoch 99/100\n",
            "616/616 [==============================] - 1s 2ms/step - loss: 0.0083 - acc: 0.8047 - val_loss: 0.0089 - val_acc: 0.7495\n",
            "Epoch 100/100\n",
            "616/616 [==============================] - 1s 2ms/step - loss: 0.0082 - acc: 0.7997 - val_loss: 0.0087 - val_acc: 0.8157\n"
          ],
          "name": "stdout"
        },
        {
          "output_type": "error",
          "ename": "ValueError",
          "evalue": "ignored",
          "traceback": [
            "\u001b[0;31m---------------------------------------------------------------------------\u001b[0m",
            "\u001b[0;31mValueError\u001b[0m                                Traceback (most recent call last)",
            "\u001b[0;32m<ipython-input-49-cd6e76a4ee11>\u001b[0m in \u001b[0;36m<module>\u001b[0;34m()\u001b[0m\n\u001b[1;32m      2\u001b[0m \u001b[0mae\u001b[0m\u001b[0;34m.\u001b[0m\u001b[0mtrain_model\u001b[0m\u001b[0;34m(\u001b[0m\u001b[0mx_train\u001b[0m\u001b[0;34m,\u001b[0m \u001b[0my_train\u001b[0m\u001b[0;34m,\u001b[0m \u001b[0mx_val\u001b[0m\u001b[0;34m,\u001b[0m \u001b[0my_val\u001b[0m\u001b[0;34m,\u001b[0m \u001b[0mepochs\u001b[0m\u001b[0;34m=\u001b[0m\u001b[0;36m100\u001b[0m\u001b[0;34m,\u001b[0m \u001b[0mbatch_size\u001b[0m\u001b[0;34m=\u001b[0m\u001b[0;36m128\u001b[0m\u001b[0;34m)\u001b[0m\u001b[0;34m\u001b[0m\u001b[0;34m\u001b[0m\u001b[0m\n\u001b[1;32m      3\u001b[0m \u001b[0;34m\u001b[0m\u001b[0m\n\u001b[0;32m----> 4\u001b[0;31m \u001b[0mae\u001b[0m\u001b[0;34m.\u001b[0m\u001b[0mhuman_train\u001b[0m\u001b[0;34m(\u001b[0m\u001b[0mpredictions\u001b[0m\u001b[0;34m,\u001b[0m \u001b[0mhy_train\u001b[0m\u001b[0;34m,\u001b[0m \u001b[0mepochs\u001b[0m\u001b[0;34m=\u001b[0m\u001b[0;36m100\u001b[0m\u001b[0;34m,\u001b[0m \u001b[0mbatch_size\u001b[0m\u001b[0;34m=\u001b[0m\u001b[0;36m128\u001b[0m\u001b[0;34m)\u001b[0m\u001b[0;34m\u001b[0m\u001b[0;34m\u001b[0m\u001b[0m\n\u001b[0m",
            "\u001b[0;32m<ipython-input-48-2a1239a0db59>\u001b[0m in \u001b[0;36mhuman_train\u001b[0;34m(self, hx_train, hy_train, epochs, batch_size)\u001b[0m\n\u001b[1;32m     54\u001b[0m       \u001b[0moptimizer\u001b[0m \u001b[0;34m=\u001b[0m \u001b[0mAdam\u001b[0m\u001b[0;34m(\u001b[0m\u001b[0mlr\u001b[0m\u001b[0;34m=\u001b[0m\u001b[0;36m0.0003\u001b[0m\u001b[0;34m)\u001b[0m\u001b[0;34m\u001b[0m\u001b[0;34m\u001b[0m\u001b[0m\n\u001b[1;32m     55\u001b[0m       \u001b[0mself\u001b[0m\u001b[0;34m.\u001b[0m\u001b[0mreg\u001b[0m\u001b[0;34m.\u001b[0m\u001b[0mcompile\u001b[0m\u001b[0;34m(\u001b[0m\u001b[0moptimizer\u001b[0m\u001b[0;34m,\u001b[0m \u001b[0mloss\u001b[0m\u001b[0;34m=\u001b[0m\u001b[0mlosses\u001b[0m\u001b[0;34m.\u001b[0m\u001b[0mmean_squared_error\u001b[0m\u001b[0;34m,\u001b[0m\u001b[0mmetrics\u001b[0m\u001b[0;34m=\u001b[0m\u001b[0;34m[\u001b[0m\u001b[0;34m\"accuracy\"\u001b[0m\u001b[0;34m]\u001b[0m\u001b[0;34m)\u001b[0m\u001b[0;34m\u001b[0m\u001b[0;34m\u001b[0m\u001b[0m\n\u001b[0;32m---> 56\u001b[0;31m       \u001b[0mself\u001b[0m\u001b[0;34m.\u001b[0m\u001b[0mreg\u001b[0m\u001b[0;34m.\u001b[0m\u001b[0mfit\u001b[0m\u001b[0;34m(\u001b[0m\u001b[0mhx_train\u001b[0m\u001b[0;34m,\u001b[0m \u001b[0mhy_train\u001b[0m\u001b[0;34m,\u001b[0m \u001b[0mepochs\u001b[0m\u001b[0;34m=\u001b[0m\u001b[0;36m20\u001b[0m\u001b[0;34m,\u001b[0m \u001b[0mbatch_size\u001b[0m\u001b[0;34m=\u001b[0m\u001b[0mbatch_size\u001b[0m\u001b[0;34m,\u001b[0m \u001b[0mshuffle\u001b[0m\u001b[0;34m=\u001b[0m\u001b[0;32mTrue\u001b[0m\u001b[0;34m,\u001b[0m \u001b[0mverbose\u001b[0m\u001b[0;34m=\u001b[0m\u001b[0;36m1\u001b[0m\u001b[0;34m)\u001b[0m\u001b[0;34m\u001b[0m\u001b[0;34m\u001b[0m\u001b[0m\n\u001b[0m\u001b[1;32m     57\u001b[0m       \u001b[0mself\u001b[0m\u001b[0;34m.\u001b[0m\u001b[0mreg\u001b[0m\u001b[0;34m.\u001b[0m\u001b[0msave\u001b[0m\u001b[0;34m(\u001b[0m\u001b[0;34m'reg_model.h5'\u001b[0m\u001b[0;34m)\u001b[0m\u001b[0;34m\u001b[0m\u001b[0;34m\u001b[0m\u001b[0m\n\u001b[1;32m     58\u001b[0m \u001b[0;34m\u001b[0m\u001b[0m\n",
            "\u001b[0;32m/usr/local/lib/python3.6/dist-packages/keras/engine/training.py\u001b[0m in \u001b[0;36mfit\u001b[0;34m(self, x, y, batch_size, epochs, verbose, callbacks, validation_split, validation_data, shuffle, class_weight, sample_weight, initial_epoch, steps_per_epoch, validation_steps, **kwargs)\u001b[0m\n\u001b[1;32m    950\u001b[0m             \u001b[0msample_weight\u001b[0m\u001b[0;34m=\u001b[0m\u001b[0msample_weight\u001b[0m\u001b[0;34m,\u001b[0m\u001b[0;34m\u001b[0m\u001b[0;34m\u001b[0m\u001b[0m\n\u001b[1;32m    951\u001b[0m             \u001b[0mclass_weight\u001b[0m\u001b[0;34m=\u001b[0m\u001b[0mclass_weight\u001b[0m\u001b[0;34m,\u001b[0m\u001b[0;34m\u001b[0m\u001b[0;34m\u001b[0m\u001b[0m\n\u001b[0;32m--> 952\u001b[0;31m             batch_size=batch_size)\n\u001b[0m\u001b[1;32m    953\u001b[0m         \u001b[0;31m# Prepare validation data.\u001b[0m\u001b[0;34m\u001b[0m\u001b[0;34m\u001b[0m\u001b[0;34m\u001b[0m\u001b[0m\n\u001b[1;32m    954\u001b[0m         \u001b[0mdo_validation\u001b[0m \u001b[0;34m=\u001b[0m \u001b[0;32mFalse\u001b[0m\u001b[0;34m\u001b[0m\u001b[0;34m\u001b[0m\u001b[0m\n",
            "\u001b[0;32m/usr/local/lib/python3.6/dist-packages/keras/engine/training.py\u001b[0m in \u001b[0;36m_standardize_user_data\u001b[0;34m(self, x, y, sample_weight, class_weight, check_array_lengths, batch_size)\u001b[0m\n\u001b[1;32m    802\u001b[0m             ]\n\u001b[1;32m    803\u001b[0m             \u001b[0;31m# Check that all arrays have the same length.\u001b[0m\u001b[0;34m\u001b[0m\u001b[0;34m\u001b[0m\u001b[0;34m\u001b[0m\u001b[0m\n\u001b[0;32m--> 804\u001b[0;31m             \u001b[0mcheck_array_length_consistency\u001b[0m\u001b[0;34m(\u001b[0m\u001b[0mx\u001b[0m\u001b[0;34m,\u001b[0m \u001b[0my\u001b[0m\u001b[0;34m,\u001b[0m \u001b[0msample_weights\u001b[0m\u001b[0;34m)\u001b[0m\u001b[0;34m\u001b[0m\u001b[0;34m\u001b[0m\u001b[0m\n\u001b[0m\u001b[1;32m    805\u001b[0m             \u001b[0;32mif\u001b[0m \u001b[0mself\u001b[0m\u001b[0;34m.\u001b[0m\u001b[0m_is_graph_network\u001b[0m\u001b[0;34m:\u001b[0m\u001b[0;34m\u001b[0m\u001b[0;34m\u001b[0m\u001b[0m\n\u001b[1;32m    806\u001b[0m                 \u001b[0;31m# Additional checks to avoid users mistakenly\u001b[0m\u001b[0;34m\u001b[0m\u001b[0;34m\u001b[0m\u001b[0;34m\u001b[0m\u001b[0m\n",
            "\u001b[0;32m/usr/local/lib/python3.6/dist-packages/keras/engine/training_utils.py\u001b[0m in \u001b[0;36mcheck_array_length_consistency\u001b[0;34m(inputs, targets, weights)\u001b[0m\n\u001b[1;32m    235\u001b[0m                          \u001b[0;34m'the same number of samples as target arrays. '\u001b[0m\u001b[0;34m\u001b[0m\u001b[0;34m\u001b[0m\u001b[0m\n\u001b[1;32m    236\u001b[0m                          \u001b[0;34m'Found '\u001b[0m \u001b[0;34m+\u001b[0m \u001b[0mstr\u001b[0m\u001b[0;34m(\u001b[0m\u001b[0mlist\u001b[0m\u001b[0;34m(\u001b[0m\u001b[0mset_x\u001b[0m\u001b[0;34m)\u001b[0m\u001b[0;34m[\u001b[0m\u001b[0;36m0\u001b[0m\u001b[0;34m]\u001b[0m\u001b[0;34m)\u001b[0m \u001b[0;34m+\u001b[0m \u001b[0;34m' input samples '\u001b[0m\u001b[0;34m\u001b[0m\u001b[0;34m\u001b[0m\u001b[0m\n\u001b[0;32m--> 237\u001b[0;31m                          'and ' + str(list(set_y)[0]) + ' target samples.')\n\u001b[0m\u001b[1;32m    238\u001b[0m     \u001b[0;32mif\u001b[0m \u001b[0mlen\u001b[0m\u001b[0;34m(\u001b[0m\u001b[0mset_w\u001b[0m\u001b[0;34m)\u001b[0m \u001b[0;34m>\u001b[0m \u001b[0;36m1\u001b[0m\u001b[0;34m:\u001b[0m\u001b[0;34m\u001b[0m\u001b[0;34m\u001b[0m\u001b[0m\n\u001b[1;32m    239\u001b[0m         raise ValueError('All sample_weight arrays should have '\n",
            "\u001b[0;31mValueError\u001b[0m: Input arrays should have the same number of samples as target arrays. Found 1713 input samples and 315392 target samples."
          ]
        }
      ]
    },
    {
      "cell_type": "code",
      "metadata": {
        "id": "x5z_n-GLcAWX"
      },
      "source": [
        ""
      ],
      "execution_count": null,
      "outputs": []
    },
    {
      "cell_type": "code",
      "metadata": {
        "id": "5jyF36CHFT70"
      },
      "source": [
        "model=load_model(\"ae1.h5\")\n",
        "model.compile(optimizer=\"adam\",loss=losses.mean_squared_error,metrics=[\"accuracy\"])\n",
        "# model.fit(x_train, y_train,batch_size=128,epochs=50,validation_data=(x_val, y_val))"
      ],
      "execution_count": null,
      "outputs": []
    },
    {
      "cell_type": "code",
      "metadata": {
        "id": "cH4f45nkrVh1",
        "colab": {
          "base_uri": "https://localhost:8080/",
          "height": 34
        },
        "outputId": "ae9c2614-3d4c-469b-eec9-46a89be4cef3"
      },
      "source": [
        "preds, predictions = ae.eval_model(x_test)\n",
        "pred_reg = ae.eval_reg(predictions)\n",
        "pred_reg.shape"
      ],
      "execution_count": null,
      "outputs": [
        {
          "output_type": "execute_result",
          "data": {
            "text/plain": [
              "(1713, 6)"
            ]
          },
          "metadata": {
            "tags": []
          },
          "execution_count": 39
        }
      ]
    },
    {
      "cell_type": "code",
      "metadata": {
        "id": "zDKC6OXVi6rb",
        "colab": {
          "base_uri": "https://localhost:8080/",
          "height": 34
        },
        "outputId": "f0f070ac-bb14-4cb4-b081-da73494b461b"
      },
      "source": [
        "predictions.shape"
      ],
      "execution_count": null,
      "outputs": [
        {
          "output_type": "execute_result",
          "data": {
            "text/plain": [
              "(1713, 8, 8, 500)"
            ]
          },
          "metadata": {
            "tags": []
          },
          "execution_count": 35
        }
      ]
    },
    {
      "cell_type": "code",
      "metadata": {
        "id": "FfeNzni1F8AM"
      },
      "source": [
        ""
      ],
      "execution_count": null,
      "outputs": []
    },
    {
      "cell_type": "code",
      "metadata": {
        "id": "cOkwcy33rZZM"
      },
      "source": [
        "preds_0 = preds[9].reshape(32,32,3)\n",
        "x_test_0 = x_test[9] * 255.0\n",
        "x_test_0 = x_test_0.reshape(32,32,3)\n",
        "plt.imshow(x_test_0)\n",
        "\n"
      ],
      "execution_count": null,
      "outputs": []
    },
    {
      "cell_type": "code",
      "metadata": {
        "id": "Xjv5H_2jrbzr",
        "colab": {
          "base_uri": "https://localhost:8080/",
          "height": 286
        },
        "outputId": "9c1490eb-6b16-4fd3-a693-72fcb366bf99"
      },
      "source": [
        "plt.imshow(preds_0)"
      ],
      "execution_count": null,
      "outputs": [
        {
          "output_type": "execute_result",
          "data": {
            "text/plain": [
              "<matplotlib.image.AxesImage at 0x7f39c70d1c88>"
            ]
          },
          "metadata": {
            "tags": []
          },
          "execution_count": 44
        },
        {
          "output_type": "display_data",
          "data": {
            "image/png": "[encoded data removed]",
            "text/plain": [
              "<Figure size 432x288 with 1 Axes>"
            ]
          },
          "metadata": {
            "tags": []
          }
        }
      ]
    }
  ]
}